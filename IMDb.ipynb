{
 "cells": [
  {
   "cell_type": "code",
   "execution_count": null,
   "id": "5e6e8f63",
   "metadata": {},
   "outputs": [],
   "source": [
    "# Importing Modules\n",
    "from selenium import webdriver\n",
    "from webdriver_manager.chrome import ChromeDriverManager\n",
    "from selenium.webdriver.common.by import By\n",
    "import time\n",
    "import pandas as pd\n",
    "\n",
    "# Creating Driver\n",
    "driver = webdriver.Chrome(ChromeDriverManager().install())\n",
    "\n",
    "# Getting the URL\n",
    "url = 'https://www.imdb.com/?ref_=nv_home'\n",
    "driver.get(url)\n",
    "driver.maximize_window()\n",
    "time.sleep(3)\n",
    "\n",
    "# Navigating\n",
    "menu = driver.find_element(By.XPATH, '//div[text()=\"Menu\"]')\n",
    "menu.click()\n",
    "time.sleep(2)\n",
    "\n",
    "genre_search = driver.find_element(By.XPATH, '//span[text()=\"Browse TV Shows by Genre\"]')\n",
    "genre_search.click()\n",
    "time.sleep(2)\n",
    "\n",
    "crime = driver.find_element(By.XPATH, '//img[@title=\"Crime\"]')\n",
    "crime.click()\n",
    "time.sleep(4)\n",
    "\n",
    "# Creating an empty list for appending the dict\n",
    "movies = []\n",
    "\n",
    "blocks = driver.find_elements(By.CLASS_NAME, 'lister-item-content')\n",
    "\n",
    "# Set up for loop to run through all 50 movies\n",
    "for block in blocks:\n",
    "    # Extracting elements\n",
    "    ftitle_elem = block.find_elements(By.XPATH, 'h3/a')\n",
    "    ftitle = ftitle_elem[0].text if len(ftitle_elem) else ''\n",
    "\n",
    "    fyear_elem = block.find_elements(By.CLASS_NAME, 'lister-item-year')\n",
    "    fyear = fyear_elem[0].text if len(fyear_elem) else ''\n",
    "\n",
    "    fcert_elem = block.find_elements(By.CLASS_NAME, 'certificate')\n",
    "    fcert = fcert_elem[0].text if len(fcert_elem) else ''\n",
    "\n",
    "    frun_elem = block.find_elements(By.XPATH, 'p/span[3][@class=\"runtime\"]')\n",
    "    frun = frun_elem[0].text if len(frun_elem) else ''\n",
    "\n",
    "    fgenre_elem = block.find_elements(By.XPATH, 'p/span[@class=\"genre\"]')\n",
    "    fgenre = fgenre_elem[0].text if len(fgenre_elem) else ''\n",
    "\n",
    "    frating_elem = block.find_elements(By.XPATH, 'div/div/strong')\n",
    "    frating = frating_elem[0].text if len(frating_elem) else ''\n",
    "\n",
    "    fstar_elem = block.find_elements(By.XPATH, 'p[3]')\n",
    "    fstar = fstar_elem[0].text if len(fstar_elem) else ''\n",
    "\n",
    "    # Build data dictionary for dataframe\n",
    "    data = {'Title': ftitle,\n",
    "            'Year': fyear,\n",
    "            'Certification': fcert,\n",
    "            'Genre': fgenre,\n",
    "            'Runtime': frun,\n",
    "            'Rating': frating,\n",
    "            'Staring': fstar\n",
    "            }\n",
    "    movies.append(data)\n",
    "\n",
    "movies_df = pd.DataFrame(movies)"
   ]
  },
  {
   "cell_type": "code",
   "execution_count": null,
   "id": "c303a4fe",
   "metadata": {},
   "outputs": [],
   "source": [
    "movies_df"
   ]
  },
  {
   "cell_type": "code",
   "execution_count": null,
   "id": "f778585c",
   "metadata": {},
   "outputs": [],
   "source": [
    "movies_df.to_csv(\"IMDb.csv\",  index = False)"
   ]
  }
 ],
 "metadata": {
  "kernelspec": {
   "display_name": "Python 3 (ipykernel)",
   "language": "python",
   "name": "python3"
  },
  "language_info": {
   "codemirror_mode": {
    "name": "ipython",
    "version": 3
   },
   "file_extension": ".py",
   "mimetype": "text/x-python",
   "name": "python",
   "nbconvert_exporter": "python",
   "pygments_lexer": "ipython3",
   "version": "3.10.0"
  }
 },
 "nbformat": 4,
 "nbformat_minor": 5
}
